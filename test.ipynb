{
 "cells": [
  {
   "cell_type": "code",
   "execution_count": 1,
   "id": "54cddd16",
   "metadata": {},
   "outputs": [],
   "source": [
    "import pandas as pd\n",
    "import numpy as np\n",
    "import matplotlib.pyplot as plt\n",
    "keys = ['采集时间', '水温', 'pH', '溶解氧', '电导率', '浊度', '高锰酸盐指数', '氨氮', '总磷', \n",
    "            '总氮', '湿度', '室温', '叶绿素', '藻密度']\n"
   ]
  },
  {
   "cell_type": "code",
   "execution_count": 13,
   "id": "797413ee",
   "metadata": {
    "scrolled": false
   },
   "outputs": [
    {
     "data": {
      "text/plain": [
       "True"
      ]
     },
     "execution_count": 13,
     "metadata": {},
     "output_type": "execute_result"
    }
   ],
   "source": [
    "from scipy.stats import zscore\n",
    "# Data value clean\n",
    "# Methods:\n",
    "#     Numeric Outlier --> 通过计算第一和第三分位数　小于和大于其二的去掉\n",
    "#     Z-score --> 计算此数据点和总数据标准差的比，\n",
    "def detect_outlier(df, label, rate=4):\n",
    "    dfvals = df[label]\n",
    "    indices = np.array(list(map(lambda x: not x, np.isnan(dfvals))))\n",
    "    values = dfvals[indices]\n",
    "    Q1 = np.percentile(values, rate)\n",
    "    Q3 = np.percentile(values, 100-rate)    \n",
    "    \n",
    "    IQR = Q3 - Q1\n",
    "    \n",
    "    lower_limit = Q1 - 1.5 * IQR\n",
    "    upper_limit = Q3 + 1.5 * IQR\n",
    "    \n",
    "    outlier_list = dfvals[(dfvals < lower_limit) | (dfvals > upper_limit)].index\n",
    "    return outlier_list\n",
    "\n",
    "def compute_zscore(df, label, threshold=2.5):\n",
    "    data = df[label]\n",
    "    all_values = data.values.copy()\n",
    "    indices = np.array(list(map(lambda x: not x, np.isnan(all_values))))\n",
    "    values = all_values[indices]\n",
    "    z_value = zscore(values)\n",
    "    all_values[indices] = z_value\n",
    "    ls = data[np.abs(all_values) > threshold].index\n",
    "    return ls\n",
    "\n",
    "def myFilter(df, labels = ['电导率', '高锰酸盐指数'], name='./data_filtered.csv'):\n",
    "    dfn = df.copy()\n",
    "    for label in labels:\n",
    "        dfvals = dfn[label].values.copy()\n",
    "        out_list = compute_zscore(dfn, label, 1.5)\n",
    "        dfvals[out_list] = None\n",
    "        dfn[label] = dfvals\n",
    "    dfn.to_csv(name)\n",
    "    return True\n",
    "\n",
    "\n",
    "data = pd.read_csv('./data.csv')\n",
    "myFilter(data)\n",
    "# label = '电导率'\n",
    "# outs1 = compute_zscore(data, label, 1.5)\n",
    "# outs2 = detect_outlier(data, label, 4)\n",
    "# print(outs1)\n",
    "# print(outs2)\n",
    "# label = '高锰酸盐指数'\n",
    "# outs1 = compute_zscore(data, label, 1.5)\n",
    "# outs2 = detect_outlier(data, label, 4)\n",
    "# print(outs1)\n",
    "# print(outs2)"
   ]
  },
  {
   "cell_type": "code",
   "execution_count": 3,
   "id": "c98d4698",
   "metadata": {},
   "outputs": [],
   "source": [
    "# # Data type clean\n",
    "# original_data = pd.read_excel('./original_data.xls', header=2)\n",
    "# # print(original_data.keys())\n",
    "# data = pd.DataFrame()\n",
    "# ls = [pd.to_datetime(arg=t, format='%Y-%m-%d %H:%M:%S') for t in original_data['采集时间']]\n",
    "# data['时间'] = ls\n",
    "# for i in range(1, len(keys)):\n",
    "#     ls = []\n",
    "#     for val in original_data[keys[i]]:\n",
    "#         if val == '--':\n",
    "#             fval = None\n",
    "#         else:\n",
    "#             fval = np.abs(float(val))\n",
    "#         ls.append(fval)\n",
    "#     data[keys[i]] = ls\n",
    "# data.to_csv('data.csv', mode='a')\n",
    "# values = data['pH']\n",
    "# values[0]\n",
    "# values = list(filter(lambda x: x>0, values))"
   ]
  },
  {
   "cell_type": "code",
   "execution_count": null,
   "id": "e882a8eb",
   "metadata": {},
   "outputs": [],
   "source": []
  }
 ],
 "metadata": {
  "kernelspec": {
   "display_name": "Python 3 (ipykernel)",
   "language": "python",
   "name": "python3"
  },
  "language_info": {
   "codemirror_mode": {
    "name": "ipython",
    "version": 3
   },
   "file_extension": ".py",
   "mimetype": "text/x-python",
   "name": "python",
   "nbconvert_exporter": "python",
   "pygments_lexer": "ipython3",
   "version": "3.9.13"
  }
 },
 "nbformat": 4,
 "nbformat_minor": 5
}
