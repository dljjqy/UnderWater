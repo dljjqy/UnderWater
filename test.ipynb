{
 "cells": [
  {
   "cell_type": "code",
   "execution_count": 5,
   "id": "54cddd16",
   "metadata": {
    "scrolled": true
   },
   "outputs": [
    {
     "data": {
      "text/html": [
       "<style>.container { width:100% !important; }</style>"
      ],
      "text/plain": [
       "<IPython.core.display.HTML object>"
      ]
     },
     "metadata": {},
     "output_type": "display_data"
    }
   ],
   "source": [
    "import pandas as pd\n",
    "import numpy as np\n",
    "import matplotlib.pyplot as plt\n",
    "from pathlib import Path\n",
    "from utils import *\n",
    "\n",
    "from IPython.display import display, HTML\n",
    "display(HTML(\"<style>.container { width:100% !important; }</style>\"))\n",
    "\n",
    "keys = ['采集时间', '水温', 'pH', '溶解氧', '电导率', '浊度', '高锰酸盐指数','氨氮', '总磷', '总氮']\n",
    "en_keys = ['WaterTemperature', 'PH' ,'dissolved oxygen', 'Conductivity','Turbidity','PermanganateIndex',\n",
    "        'AmmoniaNitrogen','TP','TN', 'humidity','room temperature','chlorophyll','Algae density']\n",
    "# limits = [(5, 30), (5.0, 9), (1, 15), (50, 500), (0, 1500), (0, 15), (0, 0.5), (0, 0.3), (0, 5)]\n",
    "\n",
    "np.set_printoptions(formatter = {'float': '{:.2e}'.format})\n"
   ]
  },
  {
   "cell_type": "code",
   "execution_count": null,
   "id": "c98d4698",
   "metadata": {},
   "outputs": [],
   "source": [
    "import torch\n",
    "from trainer import *\n",
    "from models import *\n",
    "\n",
    "def test(ckpt_path, model, data, lPre=42, lGet=84, step=3):\n",
    "    ckpt = torch.load(ckpt_path)\n",
    "#     ckpt = torch.load(ckpt_path, map_location='cuda:0')\n",
    "\n",
    "#     model.load_state_dict(ckpt, strict=False)\n",
    "    model.load_state_dict(ckpt['state_dict'])\n",
    "    model.freeze()\n",
    "    \n",
    "    l, f = data.shape\n",
    "    data = np.transpose(data)\n",
    "    pre = np.zeros((l-lGet, f))\n",
    "    data = torch.from_numpy(data).to(torch.float32)\n",
    "    data = data[None, ...]\n",
    "    print(data.shape)\n",
    "    max_idx = l - step - lGet\n",
    "    \n",
    "    i = 0\n",
    "    while i <= max_idx:\n",
    "        x = data[:, :, i: i + lGet]\n",
    "        y = model(x)\n",
    "        y = y.numpy().squeeze()\n",
    "        pre[i : i + step] = y[:, :step].transpose()\n",
    "        i += step\n",
    "        \n",
    "    return pre\n",
    "\n",
    "kwargs = {'features': 9,\n",
    "        'lPre': 42,\n",
    "        'lGet' : 84,\n",
    "        'Tree_levels':2,\n",
    "        'hidden_size_rate':4,\n",
    "        'loss':F.l1_loss,\n",
    "        'lr':9e-3,\n",
    "         'descaler':None}\n",
    "    \n",
    "model = SCIModule(**kwargs)\n",
    "# model = SCINet(9, 42, 84, 2, 4)\n",
    "with torch.no_grad():\n",
    "    pre = test('./lightning_logs/7d/checkpoints/last.ckpt', model, df.values, lPre=42, lGet=84, step=3)"
   ]
  },
  {
   "cell_type": "code",
   "execution_count": null,
   "id": "e882a8eb",
   "metadata": {
    "scrolled": true
   },
   "outputs": [],
   "source": [
    "lPre, lGet = 42, 84\n",
    "features = data.shape[1]\n",
    "l, h = 25, 3\n",
    "\n",
    "window = 8000\n",
    "index = x[window:]\n",
    "real = data[window:, :]\n",
    "prediction = pre[window:, :]\n",
    "\n",
    "def plot(x, data, pre, area=9000, lGet=84):\n",
    "    fig, axis = plt.subplots(features, 1, figsize=(l, h*features), constrained_layout=True)\n",
    "\n",
    "    for i in range(features):\n",
    "        name = en_keys[i]\n",
    "        axis[i].plot(x[:], data[:, i], '-k', linewidth=3)\n",
    "        axis[i].plot(x[lGet:area+lGet], pre[:area, i], '-r', linewidth=0.8)\n",
    "        axis[i].plot(x[area+lGet:], pre[area:, i], '-b', linewidth=0.8)\n",
    "\n",
    "    #     df.plot(y=k, ax=axis[i], style='-k')\n",
    "    #     df.plot(y=f'{k}(pre)', ax=axis[i], style='--r')\n",
    "\n",
    "        axis[i].set_title(name, fontsize=20)\n",
    "        axis[i].set_xlabel('', fontsize=15)\n",
    "        axis[i].set_ylabel('', fontsize=15)\n",
    "\n",
    "        axis[i].legend([name], fontsize=15)\n",
    "    \n",
    "plot(index, real, prediction, 9000-window)"
   ]
  },
  {
   "cell_type": "code",
   "execution_count": null,
   "id": "356c25ef",
   "metadata": {},
   "outputs": [],
   "source": [
    "df = fujiang_factory('./original_data/05-涪江/涪江水质断面水质-小时尺度/元坝子审核数据查询表.xls', 3, 5, 3)"
   ]
  },
  {
   "cell_type": "code",
   "execution_count": 3,
   "id": "a2aa6cac",
   "metadata": {},
   "outputs": [
    {
     "name": "stderr",
     "output_type": "stream",
     "text": [
      "19it [00:15,  1.20it/s]\n",
      "4it [00:04,  1.02s/it]\n",
      "15it [00:09,  1.62it/s]\n"
     ]
    }
   ],
   "source": [
    "# !!! Do Not remove !!!\n",
    "# Data Handler for BianJie, FuJiang, luguhu.\n",
    "dataHandler('./original_data/04-四川省边界断面/四川边界断面水质数据/', 12, 6, './all_data/bianjie_1d/', data_factory, 3, 5, 3)\n",
    "dataHandler('./original_data/泸沽湖邛海鲁班水库水质数据/原始查询/', 12, 6, './all_data/luguhu_1d/', data_factory, 3, 5, 3)\n",
    "dataHandler('./original_data/05-涪江/涪江水质断面水质-小时尺度/', 12, 6, './all_data/fujiang_1d//', data_factory, 3, 5, 3)"
   ]
  },
  {
   "cell_type": "code",
   "execution_count": 7,
   "id": "ce23795a",
   "metadata": {},
   "outputs": [
    {
     "name": "stderr",
     "output_type": "stream",
     "text": [
      "100%|███████████████████████████████████████████| 50/50 [01:12<00:00,  1.45s/it]\n"
     ]
    }
   ],
   "source": [
    "# !!! Do Not remove !!!\n",
    "# Data Handler for MinTuoJiang data\n",
    "import re\n",
    "from tqdm import tqdm\n",
    "from utils import _gen_data\n",
    "lPre, lGet = 6, 12\n",
    "r, limit, step = 3, 5, 3\n",
    "save_path = './all_data/mtj_1d/'\n",
    "ptj_keys = ['监测时间', '水温(℃)', 'pH值(无量纲)', '溶解氧(mg/L)', '电导率(uS/cm)', '浊度(NTU)','高锰酸盐指数(mg/L)',\n",
    "           '氨氮(mg/L)', '总磷(mg/L)', '总氮(mg/L)']\n",
    "p = Path('./original_data/08-岷沱江数据/岷沱江水质监测数据/')\n",
    "d = {}\n",
    "for file in p.iterdir():\n",
    "    name = re.match('\\d*?\\D+', file.stem)[0]\n",
    "    if name in d.keys():\n",
    "        d[name].append(file)\n",
    "    else:\n",
    "        d[name] = [file]\n",
    "for k in tqdm(d.keys()):\n",
    "    dfs = []\n",
    "    for file in d[k]:\n",
    "        df = pd.read_excel(file, header=1, usecols=ptj_keys, index_col=0, dtype=str)\n",
    "        df.drop(df.index[0], axis=0, inplace=True)\n",
    "        dfs.append(df)    \n",
    "    df = pd.concat(dfs)\n",
    "    df = df.sort_index()\n",
    "    df.index=pd.to_datetime(df.index, format='%Y-%m-%d %H:%M:%S')\n",
    "    for f in df.keys():\n",
    "        df[f] = df[f].str.extract('(^\\d+\\.\\d+)')\n",
    "    df = df.astype('float64')\n",
    "    df = df.resample('4H').mean()\n",
    "    df.loc[(df==0).all(axis=1)] = np.nan    \n",
    "    df = remove_outliers(df, standard_deviation, 25)\n",
    "    df[df < 0] = np.nan\n",
    "    df = patch_up(df, r, limit)\n",
    "    df = smooth(df, step)\n",
    "    \n",
    "    save_file_name = f'{save_path}{k}'\n",
    "    describe_save_name = f'{save_file_name}_describe.csv'\n",
    "    _gen_data(df, lGet, lPre, save_file_name)\n",
    "    df.describe().to_csv(describe_save_name)"
   ]
  },
  {
   "cell_type": "code",
   "execution_count": 16,
   "id": "6c34634c",
   "metadata": {},
   "outputs": [],
   "source": [
    "p = Path('./all_data/fujiang_1d/')\n",
    "for file in p.iterdir():\n",
    "    name = file.name\n",
    "    name = name.replace('审', '')\n",
    "#     name = name.replace('原始查询（', '')\n",
    "#     name = name.replace('）', '')\n",
    "    file.rename(f'./all_data/luguhu_1d/{name}')\n",
    "    "
   ]
  }
 ],
 "metadata": {
  "kernelspec": {
   "display_name": "Python 3 (ipykernel)",
   "language": "python",
   "name": "python3"
  },
  "language_info": {
   "codemirror_mode": {
    "name": "ipython",
    "version": 3
   },
   "file_extension": ".py",
   "mimetype": "text/x-python",
   "name": "python",
   "nbconvert_exporter": "python",
   "pygments_lexer": "ipython3",
   "version": "3.9.13"
  },
  "vscode": {
   "interpreter": {
    "hash": "21d59fe64bae991edae597942ebf1cba238720968e9671d529a1841577ba01b4"
   }
  }
 },
 "nbformat": 4,
 "nbformat_minor": 5
}
